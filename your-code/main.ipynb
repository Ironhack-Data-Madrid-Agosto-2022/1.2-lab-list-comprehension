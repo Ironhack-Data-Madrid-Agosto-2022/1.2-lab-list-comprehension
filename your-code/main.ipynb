{
 "cells": [
  {
   "cell_type": "markdown",
   "metadata": {
    "toc": true
   },
   "source": [
    "<h1>Table of Contents<span class=\"tocSkip\"></span></h1>\n",
    "<div class=\"toc\"><ul class=\"toc-item\"><li><span><a href=\"#Control-flow\" data-toc-modified-id=\"Control-flow-1\"><span class=\"toc-item-num\">1&nbsp;&nbsp;</span>Control flow</a></span><ul class=\"toc-item\"><li><ul class=\"toc-item\"><li><ul class=\"toc-item\"><li><span><a href=\"#1.-Create-and-print-a-list-of-consecutive-integers-starting-with-1-and-ending-with-50.\" data-toc-modified-id=\"1.-Create-and-print-a-list-of-consecutive-integers-starting-with-1-and-ending-with-50.-1.0.0.1\"><span class=\"toc-item-num\">1.0.0.1&nbsp;&nbsp;</span>1. Create and print a list of consecutive integers starting with 1 and ending with 50.</a></span></li><li><span><a href=\"#2.-Create-and-print-a-list-of-even-numbers-starting-with-2-and-ending-with-200.\" data-toc-modified-id=\"2.-Create-and-print-a-list-of-even-numbers-starting-with-2-and-ending-with-200.-1.0.0.2\"><span class=\"toc-item-num\">1.0.0.2&nbsp;&nbsp;</span>2. Create and print a list of even numbers starting with 2 and ending with 200.</a></span></li><li><span><a href=\"#3.-Create-and-print-a-list-containing-all-elements-of-the-10-x-4-array-below.\" data-toc-modified-id=\"3.-Create-and-print-a-list-containing-all-elements-of-the-10-x-4-array-below.-1.0.0.3\"><span class=\"toc-item-num\">1.0.0.3&nbsp;&nbsp;</span>3. Create and print a list containing all elements of the 10 x 4 array below.</a></span></li><li><span><a href=\"#4.-Add-a-condition-to-the-loop-above-so-that-only-values-greater-than-or-equal-to-0.5-are-printed.\" data-toc-modified-id=\"4.-Add-a-condition-to-the-loop-above-so-that-only-values-greater-than-or-equal-to-0.5-are-printed.-1.0.0.4\"><span class=\"toc-item-num\">1.0.0.4&nbsp;&nbsp;</span>4. Add a condition to the loop above so that only values greater than or equal to 0.5 are printed.</a></span></li><li><span><a href=\"#5.-Use-a-loop-to-create-and-print-a-list-containing-all-elements-of-the-5-x-2-x-3-array-below.\" data-toc-modified-id=\"5.-Use-a-loop-to-create-and-print-a-list-containing-all-elements-of-the-5-x-2-x-3-array-below.-1.0.0.5\"><span class=\"toc-item-num\">1.0.0.5&nbsp;&nbsp;</span>5. Use a loop to create and print a list containing all elements of the 5 x 2 x 3 array below.</a></span></li><li><span><a href=\"#6.-Add-a-condition-to-the-loop-above-so-that-the-last-value-in-each-subarray-is-printed,-but-only-if-it-is-less-than-or-equal-to-0.5.\" data-toc-modified-id=\"6.-Add-a-condition-to-the-loop-above-so-that-the-last-value-in-each-subarray-is-printed,-but-only-if-it-is-less-than-or-equal-to-0.5.-1.0.0.6\"><span class=\"toc-item-num\">1.0.0.6&nbsp;&nbsp;</span>6. Add a condition to the loop above so that the last value in each subarray is printed, but only if it is less than or equal to 0.5.</a></span></li><li><span><a href=\"#7.-Use-a-loop-to-select-and-print-the-names-of-all-CSV-files-in-the-/data-directory.\" data-toc-modified-id=\"7.-Use-a-loop-to-select-and-print-the-names-of-all-CSV-files-in-the-/data-directory.-1.0.0.7\"><span class=\"toc-item-num\">1.0.0.7&nbsp;&nbsp;</span>7. Use a loop to select and print the names of all CSV files in the <em>/data</em> directory.</a></span></li></ul></li><li><span><a href=\"#Bonus\" data-toc-modified-id=\"Bonus-1.0.1\"><span class=\"toc-item-num\">1.0.1&nbsp;&nbsp;</span>Bonus</a></span></li></ul></li></ul></li></ul></div>"
   ]
  },
  {
   "cell_type": "markdown",
   "metadata": {},
   "source": [
    "# Control flow\n",
    "\n",
    "Complete the following set of exercises to solidify your knowledge of list comprehensions."
   ]
  },
  {
   "cell_type": "code",
   "execution_count": 71,
   "metadata": {},
   "outputs": [],
   "source": [
    "import os;"
   ]
  },
  {
   "cell_type": "markdown",
   "metadata": {},
   "source": [
    "#### 1. Create and print a list of consecutive integers starting with 1 and ending with 50."
   ]
  },
  {
   "cell_type": "code",
   "execution_count": 41,
   "metadata": {},
   "outputs": [
    {
     "name": "stdout",
     "output_type": "stream",
     "text": [
      "[1, 2, 3, 4, 5, 6, 7, 8, 9, 10, 11, 12, 13, 14, 15, 16, 17, 18, 19, 20, 21, 22, 23, 24, 25, 26, 27, 28, 29, 30, 31, 32, 33, 34, 35, 36, 37, 38, 39, 40, 41, 42, 43, 44, 45, 46, 47, 48, 49, 50]\n"
     ]
    }
   ],
   "source": [
    "lst1 = [i for i in range (1,51)]\n",
    "print(lst1)"
   ]
  },
  {
   "cell_type": "markdown",
   "metadata": {},
   "source": [
    "#### 2. Create and print a list of even numbers starting with 2 and ending with 200."
   ]
  },
  {
   "cell_type": "code",
   "execution_count": 37,
   "metadata": {},
   "outputs": [
    {
     "name": "stdout",
     "output_type": "stream",
     "text": [
      "[2, 4, 6, 8, 10, 12, 14, 16, 18, 20, 22, 24, 26, 28, 30, 32, 34, 36, 38, 40, 42, 44, 46, 48, 50, 52, 54, 56, 58, 60, 62, 64, 66, 68, 70, 72, 74, 76, 78, 80, 82, 84, 86, 88, 90, 92, 94, 96, 98, 100, 102, 104, 106, 108, 110, 112, 114, 116, 118, 120, 122, 124, 126, 128, 130, 132, 134, 136, 138, 140, 142, 144, 146, 148, 150, 152, 154, 156, 158, 160, 162, 164, 166, 168, 170, 172, 174, 176, 178, 180, 182, 184, 186, 188, 190, 192, 194, 196, 198, 200]\n"
     ]
    }
   ],
   "source": [
    "lst2 = [i for i in range (2,201) if i % 2 == 0]\n",
    "print(lst2)"
   ]
  },
  {
   "cell_type": "markdown",
   "metadata": {},
   "source": [
    "#### 3. Create and print a list containing all elements of the 10 x 4 array below."
   ]
  },
  {
   "cell_type": "code",
   "execution_count": 46,
   "metadata": {},
   "outputs": [],
   "source": [
    "a = [[0.84062117, 0.48006452, 0.7876326 , 0.77109654],\n",
    "       [0.44409793, 0.09014516, 0.81835917, 0.87645456],\n",
    "       [0.7066597 , 0.09610873, 0.41247947, 0.57433389],\n",
    "       [0.29960807, 0.42315023, 0.34452557, 0.4751035 ],\n",
    "       [0.17003563, 0.46843998, 0.92796258, 0.69814654],\n",
    "       [0.41290051, 0.19561071, 0.16284783, 0.97016248],\n",
    "       [0.71725408, 0.87702738, 0.31244595, 0.76615487],\n",
    "       [0.20754036, 0.57871812, 0.07214068, 0.40356048],\n",
    "       [0.12149553, 0.53222417, 0.9976855 , 0.12536346],\n",
    "       [0.80930099, 0.50962849, 0.94555126, 0.33364763]];"
   ]
  },
  {
   "cell_type": "code",
   "execution_count": 47,
   "metadata": {},
   "outputs": [
    {
     "data": {
      "text/plain": [
       "[0.84062117,\n",
       " 0.48006452,\n",
       " 0.7876326,\n",
       " 0.77109654,\n",
       " 0.44409793,\n",
       " 0.09014516,\n",
       " 0.81835917,\n",
       " 0.87645456,\n",
       " 0.7066597,\n",
       " 0.09610873,\n",
       " 0.41247947,\n",
       " 0.57433389,\n",
       " 0.29960807,\n",
       " 0.42315023,\n",
       " 0.34452557,\n",
       " 0.4751035,\n",
       " 0.17003563,\n",
       " 0.46843998,\n",
       " 0.92796258,\n",
       " 0.69814654,\n",
       " 0.41290051,\n",
       " 0.19561071,\n",
       " 0.16284783,\n",
       " 0.97016248,\n",
       " 0.71725408,\n",
       " 0.87702738,\n",
       " 0.31244595,\n",
       " 0.76615487,\n",
       " 0.20754036,\n",
       " 0.57871812,\n",
       " 0.07214068,\n",
       " 0.40356048,\n",
       " 0.12149553,\n",
       " 0.53222417,\n",
       " 0.9976855,\n",
       " 0.12536346,\n",
       " 0.80930099,\n",
       " 0.50962849,\n",
       " 0.94555126,\n",
       " 0.33364763]"
      ]
     },
     "execution_count": 47,
     "metadata": {},
     "output_type": "execute_result"
    }
   ],
   "source": [
    "[j for i in a for j in i]"
   ]
  },
  {
   "cell_type": "markdown",
   "metadata": {},
   "source": [
    "#### 4. Add a condition to the loop above so that only values greater than or equal to 0.5 are printed."
   ]
  },
  {
   "cell_type": "code",
   "execution_count": 49,
   "metadata": {},
   "outputs": [
    {
     "data": {
      "text/plain": [
       "[0.84062117,\n",
       " 0.7876326,\n",
       " 0.77109654,\n",
       " 0.81835917,\n",
       " 0.87645456,\n",
       " 0.7066597,\n",
       " 0.57433389,\n",
       " 0.92796258,\n",
       " 0.69814654,\n",
       " 0.97016248,\n",
       " 0.71725408,\n",
       " 0.87702738,\n",
       " 0.76615487,\n",
       " 0.57871812,\n",
       " 0.53222417,\n",
       " 0.9976855,\n",
       " 0.80930099,\n",
       " 0.50962849,\n",
       " 0.94555126]"
      ]
     },
     "execution_count": 49,
     "metadata": {},
     "output_type": "execute_result"
    }
   ],
   "source": [
    "[j for i in a for j in i if j >= 0.5]"
   ]
  },
  {
   "cell_type": "markdown",
   "metadata": {},
   "source": [
    "#### 5. Use a loop to create and print a list containing all elements of the 5 x 2 x 3 array below."
   ]
  },
  {
   "cell_type": "code",
   "execution_count": 50,
   "metadata": {},
   "outputs": [],
   "source": [
    "b = [[[0.55867166, 0.06210792, 0.08147297],\n",
    "        [0.82579068, 0.91512478, 0.06833034]],\n",
    "\n",
    "       [[0.05440634, 0.65857693, 0.30296619],\n",
    "        [0.06769833, 0.96031863, 0.51293743]],\n",
    "\n",
    "       [[0.09143215, 0.71893382, 0.45850679],\n",
    "        [0.58256464, 0.59005654, 0.56266457]],\n",
    "\n",
    "       [[0.71600294, 0.87392666, 0.11434044],\n",
    "        [0.8694668 , 0.65669313, 0.10708681]],\n",
    "\n",
    "       [[0.07529684, 0.46470767, 0.47984544],\n",
    "        [0.65368638, 0.14901286, 0.23760688]]];"
   ]
  },
  {
   "cell_type": "code",
   "execution_count": 64,
   "metadata": {},
   "outputs": [
    {
     "data": {
      "text/plain": [
       "[0.55867166,\n",
       " 0.06210792,\n",
       " 0.08147297,\n",
       " 0.82579068,\n",
       " 0.91512478,\n",
       " 0.06833034,\n",
       " 0.05440634,\n",
       " 0.65857693,\n",
       " 0.30296619,\n",
       " 0.06769833,\n",
       " 0.96031863,\n",
       " 0.51293743,\n",
       " 0.09143215,\n",
       " 0.71893382,\n",
       " 0.45850679,\n",
       " 0.58256464,\n",
       " 0.59005654,\n",
       " 0.56266457,\n",
       " 0.71600294,\n",
       " 0.87392666,\n",
       " 0.11434044,\n",
       " 0.8694668,\n",
       " 0.65669313,\n",
       " 0.10708681,\n",
       " 0.07529684,\n",
       " 0.46470767,\n",
       " 0.47984544,\n",
       " 0.65368638,\n",
       " 0.14901286,\n",
       " 0.23760688]"
      ]
     },
     "execution_count": 64,
     "metadata": {},
     "output_type": "execute_result"
    }
   ],
   "source": [
    "[k for i in b for j in i for k in j]"
   ]
  },
  {
   "cell_type": "markdown",
   "metadata": {},
   "source": [
    "#### 6. Add a condition to the loop above so that the last value in each subarray is printed, but only if it is less than or equal to 0.5."
   ]
  },
  {
   "cell_type": "code",
   "execution_count": 70,
   "metadata": {},
   "outputs": [
    {
     "data": {
      "text/plain": [
       "[0.06210792,\n",
       " 0.08147297,\n",
       " 0.06833034,\n",
       " 0.05440634,\n",
       " 0.30296619,\n",
       " 0.06769833,\n",
       " 0.09143215,\n",
       " 0.45850679,\n",
       " 0.11434044,\n",
       " 0.10708681,\n",
       " 0.07529684,\n",
       " 0.46470767,\n",
       " 0.47984544,\n",
       " 0.14901286,\n",
       " 0.23760688]"
      ]
     },
     "execution_count": 70,
     "metadata": {},
     "output_type": "execute_result"
    }
   ],
   "source": [
    "[k for i in b for j in i for k in j if k <= 0.5]"
   ]
  },
  {
   "cell_type": "markdown",
   "metadata": {},
   "source": [
    "#### 7. Use a loop to select and print the names of all CSV files in the */data* directory."
   ]
  },
  {
   "cell_type": "code",
   "execution_count": 73,
   "metadata": {},
   "outputs": [
    {
     "ename": "FileNotFoundError",
     "evalue": "[WinError 3] El sistema no puede encontrar la ruta especificada: 'path/to/dir'",
     "output_type": "error",
     "traceback": [
      "\u001b[1;31m---------------------------------------------------------------------------\u001b[0m",
      "\u001b[1;31mFileNotFoundError\u001b[0m                         Traceback (most recent call last)",
      "Input \u001b[1;32mIn [73]\u001b[0m, in \u001b[0;36m<cell line: 4>\u001b[1;34m()\u001b[0m\n\u001b[0;32m      1\u001b[0m \u001b[38;5;28;01mimport\u001b[39;00m \u001b[38;5;21;01mos\u001b[39;00m\u001b[38;5;241m,\u001b[39m \u001b[38;5;21;01msys\u001b[39;00m\n\u001b[0;32m      3\u001b[0m path \u001b[38;5;241m=\u001b[39m \u001b[38;5;124m\"\u001b[39m\u001b[38;5;124mpath/to/dir\u001b[39m\u001b[38;5;124m\"\u001b[39m\n\u001b[1;32m----> 4\u001b[0m dirs \u001b[38;5;241m=\u001b[39m \u001b[43mos\u001b[49m\u001b[38;5;241;43m.\u001b[39;49m\u001b[43mlistdir\u001b[49m\u001b[43m(\u001b[49m\u001b[43mpath\u001b[49m\u001b[43m)\u001b[49m\n\u001b[0;32m      6\u001b[0m \u001b[38;5;28;01mfor\u001b[39;00m file \u001b[38;5;129;01min\u001b[39;00m dirs:\n\u001b[0;32m      7\u001b[0m     \u001b[38;5;28;01mif\u001b[39;00m file \u001b[38;5;241m==\u001b[39m \u001b[38;5;124m'\u001b[39m\u001b[38;5;124m*.csv\u001b[39m\u001b[38;5;124m'\u001b[39m:\n",
      "\u001b[1;31mFileNotFoundError\u001b[0m: [WinError 3] El sistema no puede encontrar la ruta especificada: 'path/to/dir'"
     ]
    }
   ],
   "source": [
    "import os, sys\n",
    "\n",
    "path = \"path/to/dir\"\n",
    "dirs = os.listdir(path)\n",
    "\n",
    "for file in dirs:\n",
    "    if file == '*.csv':\n",
    "        print (file)"
   ]
  }
 ],
 "metadata": {
  "kernelspec": {
   "display_name": "Python 3 (ipykernel)",
   "language": "python",
   "name": "python3"
  },
  "language_info": {
   "codemirror_mode": {
    "name": "ipython",
    "version": 3
   },
   "file_extension": ".py",
   "mimetype": "text/x-python",
   "name": "python",
   "nbconvert_exporter": "python",
   "pygments_lexer": "ipython3",
   "version": "3.9.12"
  },
  "toc": {
   "base_numbering": 1,
   "nav_menu": {},
   "number_sections": true,
   "sideBar": true,
   "skip_h1_title": false,
   "title_cell": "Table of Contents",
   "title_sidebar": "Contents",
   "toc_cell": true,
   "toc_position": {},
   "toc_section_display": true,
   "toc_window_display": false
  },
  "varInspector": {
   "cols": {
    "lenName": 16,
    "lenType": 16,
    "lenVar": 40
   },
   "kernels_config": {
    "python": {
     "delete_cmd_postfix": "",
     "delete_cmd_prefix": "del ",
     "library": "var_list.py",
     "varRefreshCmd": "print(var_dic_list())"
    },
    "r": {
     "delete_cmd_postfix": ") ",
     "delete_cmd_prefix": "rm(",
     "library": "var_list.r",
     "varRefreshCmd": "cat(var_dic_list()) "
    }
   },
   "types_to_exclude": [
    "module",
    "function",
    "builtin_function_or_method",
    "instance",
    "_Feature"
   ],
   "window_display": false
  }
 },
 "nbformat": 4,
 "nbformat_minor": 2
}
